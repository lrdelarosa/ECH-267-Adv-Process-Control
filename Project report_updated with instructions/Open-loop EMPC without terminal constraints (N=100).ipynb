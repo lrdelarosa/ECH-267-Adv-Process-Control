{
 "cells": [
  {
   "cell_type": "markdown",
   "id": "0fce8035-a547-4f26-a94c-d20f7972d8be",
   "metadata": {},
   "source": [
    "**Open-loop MPC WITHOUT terminal constraints N = 100**\n",
    "\n",
    "***Instructions:*** \n",
    "- To reproduce results for open-loop EMPC with terminal constraints with varying N, change the value of N (in cell 4) to the (N **+ 1**) of the result being reproduced. For example, if you are simulating results for open-loop MPC with N = 5, update the value of N in cell 4 to N = 6. This is done primarily to resolve plotting issues (plot of input trajectory and cost stop at the second to the last sample period if N is used). \n",
    "- In addition to specifying N+1 in cell 4, the user has to specify (N **- 1**) * dt in t_max in cell 14 to avoid plotting issues. \n",
    "- To calculate the total economic cost for a length of operation shorter than 5.0 s, the user can extract and sum up the cost history in line 10 for the start and end time step of interest. For example, if the user is interested in summing up the cost for a length of operation of 2.5 s, change print(np.sum(cost_history)) to print(np.sum(cost_history[0:6::])). This adds up the cost from time step 0 to time step 5 (zero-based indexing), which is equivalent to 0.0 to 0.25 s, given that the sample period dt is 0.05."
   ]
  },
  {
   "cell_type": "code",
   "execution_count": 1,
   "id": "60fc7e0d-f1bd-4820-acbc-f067a467e7be",
   "metadata": {},
   "outputs": [],
   "source": [
    "from casadi import *\n",
    "import matplotlib.pyplot as plt"
   ]
  },
  {
   "cell_type": "code",
   "execution_count": 2,
   "id": "eb85906f-349b-41ce-b475-48e8761e7270",
   "metadata": {},
   "outputs": [],
   "source": [
    "def model(x ,u, xs = None, us = None):\n",
    "    \"\"\"Compute the right-hand side of the ODEs\n",
    "    \n",
    "    Args: \n",
    "        x (array-like): State vector\n",
    "        u (array-like): Input vector\n",
    "        xs (array-like, optional): steady-state\n",
    "        us (array-like, optional): steady-state input\n",
    "    Returns:\n",
    "        array-like: dx/dt\n",
    "    \"\"\"\n",
    "    if xs is not None:\n",
    "        # Assume x is in deviation variable form\n",
    "        x = [x[i] + xs[i] for i in range(1)]\n",
    "    if us is not None:\n",
    "        # Assume u is in deviation variable form\n",
    "        u = [u[i] + us[i] for i in range(1)]\n",
    "        \n",
    "    dxdt = [x[0] + u[0]]\n",
    "    return dxdt"
   ]
  },
  {
   "cell_type": "code",
   "execution_count": 3,
   "id": "26bf2710-8641-48cc-9871-fe871c9544ad",
   "metadata": {},
   "outputs": [],
   "source": [
    "# Get the steady state\n",
    "us = -3\n",
    "xs = 3"
   ]
  },
  {
   "cell_type": "code",
   "execution_count": 4,
   "id": "ea35c6a4-1237-460d-bacc-c2ebed545ae8",
   "metadata": {},
   "outputs": [],
   "source": [
    "# Parameters (used in optimal control problem later as well)\n",
    "N = 101 # specified to make plot of input trajectories and system cost be continuous at t = 5.0\n",
    "dt = 0.05\n",
    "T = dt*N"
   ]
  },
  {
   "cell_type": "code",
   "execution_count": 5,
   "id": "e1320d67-225c-44ae-8911-10ab78d91d65",
   "metadata": {},
   "outputs": [
    {
     "name": "stdout",
     "output_type": "stream",
     "text": [
      "(x+u) (1, 1)\n",
      "<class 'casadi.casadi.SX'>\n"
     ]
    }
   ],
   "source": [
    "t = SX.sym(\"t\", 1, 1)\n",
    "x = SX.sym(\"x\", 1, 1)\n",
    "u = SX.sym(\"u\", 1, 1)\n",
    "ode = vertcat(*model (x, u))\n",
    "print(ode, ode.shape)\n",
    "print(type(ode))"
   ]
  },
  {
   "cell_type": "markdown",
   "id": "32ac37b6-606d-419e-83af-9386c097a0dc",
   "metadata": {},
   "source": [
    "![](Casadip6.png)"
   ]
  },
  {
   "cell_type": "code",
   "execution_count": 6,
   "id": "d5515e79-cb3b-4e2f-849b-a45e70f6d3ce",
   "metadata": {},
   "outputs": [],
   "source": [
    "# Construct an integrating block x_k+1\n",
    "f = {'x' : x, 't' : t, 'p' : u, 'ode' : ode}\n",
    "Phi = integrator(\"Phi\", \"cvodes\", f, {'tf' : dt})"
   ]
  },
  {
   "cell_type": "code",
   "execution_count": 7,
   "id": "2a4383ed-7f8e-472e-9489-daba16aaca94",
   "metadata": {},
   "outputs": [],
   "source": [
    "# System Model - in general, the system model\n",
    "# and the MPC model are different\n",
    "system = Phi"
   ]
  },
  {
   "cell_type": "code",
   "execution_count": 8,
   "id": "0e2a10b4-ffb6-4274-96aa-f28f18ff1134",
   "metadata": {},
   "outputs": [],
   "source": [
    "# Define the decision variable and constraints\n",
    "q = vertcat(*[MX.sym(f'q{i}', 1, 1) for i in range(N)])\n",
    "s = vertcat(*[MX.sym(f's{i}', 1, 1) for i in range (N+1)])\n",
    "z = []\n",
    "zlb = []\n",
    "zub = []\n",
    "constraints = []\n",
    "\n",
    "# Create a function\n",
    "cost = 0.\n",
    "ulb = [-10]\n",
    "uub = [10]\n",
    "\n",
    "for i in range(N):\n",
    "    s_i = s[i: i+1]\n",
    "    s_ipl = s[i+1:i+2]\n",
    "    q_i = q[i:i+1]\n",
    "    \n",
    "    # Decision variable\n",
    "    zlb += [-np.inf]\n",
    "    zlb[0] = 1\n",
    "    zub += [np.inf]\n",
    "    zub[0] = 1\n",
    "    zlb += ulb\n",
    "    zub += uub\n",
    "    \n",
    "    z.append(s_i)\n",
    "    z.append(q_i)    \n",
    "    \n",
    "    xt_ipl = Phi(x0=s_i, p=q_i)['xf']\n",
    "    cost += 2*(q_i + 10) + (s_i - 2)**2\n",
    "    constraints.append(xt_ipl - s_ipl)\n",
    "    \n",
    "# s_N\n",
    "z.append(s_ipl)\n",
    "zlb += [-np.inf]\n",
    "zub += [np.inf]\n",
    "\n",
    "constraints = vertcat(*constraints)\n",
    "variables = vertcat(*z)\n",
    "\n",
    "#print(variables)\n",
    "#print(zlb)\n",
    "#print(len(zlb))"
   ]
  },
  {
   "cell_type": "code",
   "execution_count": 9,
   "id": "fe7d0e00-5a3a-4b64-b37c-cab3402d66f3",
   "metadata": {},
   "outputs": [],
   "source": [
    "# Create the optimization problem \n",
    "g_lb = np.zeros(N)\n",
    "g_ub = np.zeros(N)\n",
    "nlp = {'f' : cost, 'g': constraints, 'x': variables}\n",
    "opt = {'print_time': 0, 'ipopt.print_level':0}\n",
    "solver = nlpsol('solver', 'ipopt', nlp, opt)\n",
    "\n",
    "def solve_empc(): \n",
    "    \"\"\"Solve EMPC provided x\n",
    "    \n",
    "    Args:\n",
    "        x  (array-like): current state\n",
    "    Returns:\n",
    "        typle: current input and return status pair\n",
    "    \"\"\" \n",
    "    sol_out = solver(lbx=zlb, ubx=zub, lbg=g_lb, ubg=g_ub)\n",
    "    return sol_out"
   ]
  },
  {
   "cell_type": "code",
   "execution_count": 10,
   "id": "457b98a8-67a7-4a69-abeb-a533e68ed1e1",
   "metadata": {},
   "outputs": [
    {
     "name": "stdout",
     "output_type": "stream",
     "text": [
      "\n",
      "******************************************************************************\n",
      "This program contains Ipopt, a library for large-scale nonlinear optimization.\n",
      " Ipopt is released as open source code under the Eclipse Public License (EPL).\n",
      "         For more information visit https://github.com/coin-or/Ipopt\n",
      "******************************************************************************\n",
      "\n"
     ]
    }
   ],
   "source": [
    "sol_out = solve_empc()"
   ]
  },
  {
   "cell_type": "code",
   "execution_count": 11,
   "id": "b075c884-8493-49c2-beb4-44901976f4e8",
   "metadata": {},
   "outputs": [],
   "source": [
    "state_history = sol_out['x'][0::2]\n",
    "\n",
    "input_history = sol_out['x'][1::2]"
   ]
  },
  {
   "cell_type": "code",
   "execution_count": 12,
   "id": "cbdc27ab-c713-4945-993a-d7d6224e1f66",
   "metadata": {},
   "outputs": [],
   "source": [
    "def stage_cost(x,u):\n",
    "    return float(2*(u + 10) + (x - 2)**2)"
   ]
  },
  {
   "cell_type": "code",
   "execution_count": 13,
   "id": "6928fe53-93fa-4a2a-921a-044a9b167ab1",
   "metadata": {},
   "outputs": [
    {
     "name": "stdout",
     "output_type": "stream",
     "text": [
      "1470.814719342651\n"
     ]
    }
   ],
   "source": [
    "cost_history = [stage_cost(state_history[i], input_history[i]) for i in range(N)]\n",
    "print(np.sum(cost_history))\n",
    "\n",
    "time = [i*dt for i in range(N+1)]"
   ]
  },
  {
   "cell_type": "code",
   "execution_count": 14,
   "id": "8ac6e657-a470-4c23-9e56-b42fbe42b68e",
   "metadata": {},
   "outputs": [
    {
     "data": {
      "text/plain": [
       "<Figure size 1008x1008 with 0 Axes>"
      ]
     },
     "metadata": {},
     "output_type": "display_data"
    },
    {
     "data": {
      "image/png": "[encoded data removed]",
      "text/plain": [
       "<Figure size 720x720 with 3 Axes>"
      ]
     },
     "metadata": {
      "needs_background": "light"
     },
     "output_type": "display_data"
    }
   ],
   "source": [
    "# Figure\n",
    "cost_ss = [15]\n",
    "plt.figure(figsize=[14,14])\n",
    "fig, axs = plt.subplots(3, 1, figsize=[10,10])\n",
    "t_max = min(10, (N-1)*dt)\n",
    "for j in range(1):\n",
    "    axs[j].plot(time, state_history[:, j], 'k-',\n",
    "                [time[0], time[-1]], [xs, xs], 'k--')\n",
    "    axs[j].set_ylabel(f'$x(t)$')\n",
    "    axs[j].set_xlim([0, t_max])\n",
    "    \n",
    "for j in range(1):\n",
    "    axs[j+1].step(time[:-1], input_history[:, j], 'k-',\n",
    "                  [time[0], time[-1]], [us,us], 'k--',\n",
    "                  where='post')\n",
    "    axs[j+1].set_ylabel(f'$u(t)$')\n",
    "    axs[j+1].set_xlim([0, t_max])\n",
    "    \n",
    "for j in range(1):\n",
    "    axs[j+2].step(time[:-1], cost_history, 'k-',\n",
    "                  [time[0], time[-1]], [cost_ss,cost_ss], 'k--',\n",
    "                  where='post')\n",
    "    axs[j+2].set_ylabel(f'$le(x,u)$')\n",
    "    axs[j+2].set_xlim([0, t_max])\n",
    "    \n",
    "plt.savefig('OLWT100.png')"
   ]
  },
  {
   "cell_type": "markdown",
   "id": "f0831c65-f998-4bc6-886a-178540aad6f9",
   "metadata": {},
   "source": [
    "**Open-loop MPC WITHOUT terminal constraints N = 100**"
   ]
  }
 ],
 "metadata": {
  "kernelspec": {
   "display_name": "Python 3 (ipykernel)",
   "language": "python",
   "name": "python3"
  },
  "language_info": {
   "codemirror_mode": {
    "name": "ipython",
    "version": 3
   },
   "file_extension": ".py",
   "mimetype": "text/x-python",
   "name": "python",
   "nbconvert_exporter": "python",
   "pygments_lexer": "ipython3",
   "version": "3.9.7"
  }
 },
 "nbformat": 4,
 "nbformat_minor": 5
}
